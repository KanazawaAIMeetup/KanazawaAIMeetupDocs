{
 "cells": [
  {
   "cell_type": "markdown",
   "metadata": {},
   "source": [
    "<h1>精度を向上させるためのディープラーニングのアーキテクチャーの紹介</h1>\n",
    "\n",
    "ResNetなどのディープラーニングのアーキテクチャーの紹介と、SEモジュールという少ないメモリ使用量にも関わらず精度が向上する手法について紹介します。\n",
    "\n",
    "<b>この記事の図やソースコードは非営利の勉強会のために使わせていただいております。</b><br>\n",
    "<b>The Figure and source code on this notebook are used for non-profit pourpose.</b>\n",
    "\n",
    "<h2> 引用・参考文献 </h2>\n",
    "[1] http://image-net.org/challenges/talks/ilsvrc2015_deep_residual_learning_kaiminghe.pdf\n",
    "[2] \"Figure 2. Residual learning: a building block.\",https://arxiv.org/pdf/1512.03385.pdf"
   ]
  },
  {
   "cell_type": "code",
   "execution_count": 2,
   "metadata": {},
   "outputs": [
    {
     "name": "stdout",
     "output_type": "stream",
     "text": [
      "Requirement already satisfied: tensorflow in /home/tomohiro/miniconda3/envs/DeepLearning/lib/python3.5/site-packages (1.14.0)\n",
      "Requirement already satisfied: keras-applications>=1.0.6 in /home/tomohiro/miniconda3/envs/DeepLearning/lib/python3.5/site-packages (from tensorflow) (1.0.8)\n",
      "Requirement already satisfied: grpcio>=1.8.6 in /home/tomohiro/miniconda3/envs/DeepLearning/lib/python3.5/site-packages (from tensorflow) (1.22.0)\n",
      "Requirement already satisfied: numpy<2.0,>=1.14.5 in /home/tomohiro/miniconda3/envs/DeepLearning/lib/python3.5/site-packages (from tensorflow) (1.16.4)\n",
      "Requirement already satisfied: termcolor>=1.1.0 in /home/tomohiro/miniconda3/envs/DeepLearning/lib/python3.5/site-packages (from tensorflow) (1.1.0)\n",
      "Requirement already satisfied: wrapt>=1.11.1 in /home/tomohiro/miniconda3/envs/DeepLearning/lib/python3.5/site-packages (from tensorflow) (1.11.2)\n",
      "Requirement already satisfied: protobuf>=3.6.1 in /home/tomohiro/miniconda3/envs/DeepLearning/lib/python3.5/site-packages (from tensorflow) (3.9.0)\n",
      "Requirement already satisfied: tensorboard<1.15.0,>=1.14.0 in /home/tomohiro/miniconda3/envs/DeepLearning/lib/python3.5/site-packages (from tensorflow) (1.14.0)\n",
      "Requirement already satisfied: keras-preprocessing>=1.0.5 in /home/tomohiro/miniconda3/envs/DeepLearning/lib/python3.5/site-packages (from tensorflow) (1.1.0)\n",
      "Requirement already satisfied: wheel>=0.26 in /home/tomohiro/miniconda3/envs/DeepLearning/lib/python3.5/site-packages (from tensorflow) (0.31.1)\n",
      "Requirement already satisfied: gast>=0.2.0 in /home/tomohiro/miniconda3/envs/DeepLearning/lib/python3.5/site-packages (from tensorflow) (0.2.2)\n",
      "Requirement already satisfied: six>=1.10.0 in /home/tomohiro/miniconda3/envs/DeepLearning/lib/python3.5/site-packages (from tensorflow) (1.12.0)\n",
      "Requirement already satisfied: absl-py>=0.7.0 in /home/tomohiro/miniconda3/envs/DeepLearning/lib/python3.5/site-packages (from tensorflow) (0.7.1)\n",
      "Requirement already satisfied: astor>=0.6.0 in /home/tomohiro/miniconda3/envs/DeepLearning/lib/python3.5/site-packages (from tensorflow) (0.8.0)\n",
      "Requirement already satisfied: tensorflow-estimator<1.15.0rc0,>=1.14.0rc0 in /home/tomohiro/miniconda3/envs/DeepLearning/lib/python3.5/site-packages (from tensorflow) (1.14.0)\n",
      "Requirement already satisfied: google-pasta>=0.1.6 in /home/tomohiro/miniconda3/envs/DeepLearning/lib/python3.5/site-packages (from tensorflow) (0.1.7)\n",
      "Requirement already satisfied: h5py in /home/tomohiro/miniconda3/envs/DeepLearning/lib/python3.5/site-packages (from keras-applications>=1.0.6->tensorflow) (2.9.0)\n",
      "Requirement already satisfied: setuptools in /home/tomohiro/miniconda3/envs/DeepLearning/lib/python3.5/site-packages (from protobuf>=3.6.1->tensorflow) (40.2.0)\n",
      "Requirement already satisfied: werkzeug>=0.11.15 in /home/tomohiro/miniconda3/envs/DeepLearning/lib/python3.5/site-packages (from tensorboard<1.15.0,>=1.14.0->tensorflow) (0.15.5)\n",
      "Requirement already satisfied: markdown>=2.6.8 in /home/tomohiro/miniconda3/envs/DeepLearning/lib/python3.5/site-packages (from tensorboard<1.15.0,>=1.14.0->tensorflow) (3.1.1)\n",
      "\u001b[31mtensorboard 1.14.0 has requirement setuptools>=41.0.0, but you'll have setuptools 40.2.0 which is incompatible.\u001b[0m\n",
      "\u001b[33mYou are using pip version 10.0.1, however version 19.1.1 is available.\n",
      "You should consider upgrading via the 'pip install --upgrade pip' command.\u001b[0m\n",
      "Collecting keras\n",
      "  Using cached https://files.pythonhosted.org/packages/5e/10/aa32dad071ce52b5502266b5c659451cfd6ffcbf14e6c8c4f16c0ff5aaab/Keras-2.2.4-py2.py3-none-any.whl\n",
      "Requirement already satisfied: six>=1.9.0 in /home/tomohiro/miniconda3/envs/DeepLearning/lib/python3.5/site-packages (from keras) (1.12.0)\n",
      "Requirement already satisfied: keras-preprocessing>=1.0.5 in /home/tomohiro/miniconda3/envs/DeepLearning/lib/python3.5/site-packages (from keras) (1.1.0)\n",
      "Requirement already satisfied: keras-applications>=1.0.6 in /home/tomohiro/miniconda3/envs/DeepLearning/lib/python3.5/site-packages (from keras) (1.0.8)\n",
      "Requirement already satisfied: numpy>=1.9.1 in /home/tomohiro/miniconda3/envs/DeepLearning/lib/python3.5/site-packages (from keras) (1.16.4)\n",
      "Collecting pyyaml (from keras)\n",
      "Collecting scipy>=0.14 (from keras)\n",
      "  Using cached https://files.pythonhosted.org/packages/14/49/8f13fa215e10a7ab0731cc95b0e9bb66cf83c6a98260b154cfbd0b55fb19/scipy-1.3.0-cp35-cp35m-manylinux1_x86_64.whl\n",
      "Requirement already satisfied: h5py in /home/tomohiro/miniconda3/envs/DeepLearning/lib/python3.5/site-packages (from keras) (2.9.0)\n",
      "\u001b[31mtensorboard 1.14.0 has requirement setuptools>=41.0.0, but you'll have setuptools 40.2.0 which is incompatible.\u001b[0m\n",
      "Installing collected packages: pyyaml, scipy, keras\n",
      "Successfully installed keras-2.2.4 pyyaml-5.1.1 scipy-1.3.0\n",
      "\u001b[33mYou are using pip version 10.0.1, however version 19.1.1 is available.\n",
      "You should consider upgrading via the 'pip install --upgrade pip' command.\u001b[0m\n"
     ]
    }
   ],
   "source": [
    "!pip install tensorflow\n",
    "!pip install keras"
   ]
  },
  {
   "attachments": {
    "image.png": {
     "image/png": "[encoded data removed]"
    }
   },
   "cell_type": "markdown",
   "metadata": {},
   "source": [
    "通常の畳込みネットワークで層を積み上げると精度が落ちる。CIFAR-10の画像を分類するタスクにおいて、20層の通常の畳込みニューラルネットワーク(CNN)を用いた時のテスト時のエラーは10%。 56層にすると14%とエラー率が拡大すると資料[1]では述べられている。\n",
    "\n",
    "そこで、考案された手法がResNet。\n",
    "\n",
    "ResNetはSkip Connectionという手法を用いて勾配消失を防ぐことができる。ResNetの構成要素であるResBlockは以下の図[2]のようになっている。\n",
    "![image.png](attachment:image.png)\n",
    "また、推論時にもニューラルネットワークは画像などの入力データの細部の情報と抽象的な情報両方を考慮することができる。\n",
    "\n",
    "通常のCNNを用いると全ての情報が抽象化されてしまい、細部の情報が分からなくなってしまうが、その点をResNet,UNetなどはクリアー。\n",
    "上の図は、ネットワークを関数として捉えた場合の、イメージ図。出力であるH(x) = F(x)+x となっている。xはそのブロックの入力値で、通常は中間層の特徴量マップや生画像が入る場合が多い。ResBlockの左側の流れは、線形変換を複数回繰り返すので、複雑な関数の形F(x)になる。右側のxは入力をそのまま出力層に渡すようになっており、あえて述べるなら係数が1.0、つまり1.0倍の変換をしていることになる。誤差逆伝搬法を用いる際に、右側の流れに関しては微分しても勾配の傾きが1.0になるので、勾配が消失しづらくなる。（注意：勾配が消失するというのは、傾きが0.00000.....001のようにほとんど無くなるということ）\n",
    "\n",
    "ResNetが残差学習と呼ばれる理由は、F(x)=H(x)-xとなっており、入力xと出力H(x)がとても近くて残差（つまり引き算した結果）が0に近い場合でも、左側の重みは0に近くなり、右側の流れでそのまま渡すことで微妙な差をうまく学習することができる。\n",
    "\n",
    "ResBlockの最終層でマージしているが、それは右側と左側から流れてきた全く同じサイズの特徴量マップ同士を、まったく同じ位置同士で足し合わせることを表現している。（×マークの時はアダマール積。要はCNN。最終層などで特徴量マップをマージする方法は、同じ位置どうしの足し算か、concatenateのどちらかが多い。)\n",
    "\n",
    "<b>3rd partyのソースコードは　https://qiita.com/_odasi_/items/2d441e46643f73c0ca19　を参照。</b>\n",
    "ただし、Kerasで実装したいときは数行で定義できる便利なものが標準で定義されている。"
   ]
  },
  {
   "cell_type": "markdown",
   "metadata": {},
   "source": [
    "## どうでもいいTips 1:\n",
    "CNNのフィルタの重みを正則化することができる方法がある。使い方は以下の通り。"
   ]
  },
  {
   "cell_type": "markdown",
   "metadata": {},
   "source": [
    "```python\n",
    "from keras.layers import Conv2D\n",
    "from keras.regularizers import l2\n",
    "\n",
    "def ResNetConv2D(*args, **kwargs):\n",
    "    conv_kwargs = {\n",
    "            'strides': (1, 1),\n",
    "            'padding': 'same',\n",
    "            'kernel_initializer': 'he_normal',\n",
    "            'kernel_regularizer': l2(1.e-4)\n",
    "    }\n",
    "    conv_kwargs.update(kwargs)\n",
    "\n",
    "    return Conv2D(*args, **conv_kwargs)\n",
    "\n",
    "ResNetConv2D(filters=64, kernel_size=(7, 7), strides=(2, 2))\n",
    "```"
   ]
  },
  {
   "cell_type": "markdown",
   "metadata": {},
   "source": [
    "## どうでもいいTips2:\n",
    "キーボードのアットマークとshiftキーを同時に押すと、クオーテーションマークを出すことができる。最初のクォーテーションマークの後にpythonと書き、その後ろにコードを書くとマークダウンの中にコードを書ける。\n",
    "例：\n",
    "\n",
    "\\`\\`\\`python print(\"テスト\") \\`\\`\\`\n",
    "\n",
    "```python \n",
    "print(\"テスト\") \n",
    "```\n",
    "\n",
    "エスケープシーケンスは円マークで書けます。"
   ]
  },
  {
   "cell_type": "markdown",
   "metadata": {},
   "source": []
  }
 ],
 "metadata": {
  "kernelspec": {
   "display_name": "Python (DeepLearning)",
   "language": "python",
   "name": "deeplearning"
  },
  "language_info": {
   "codemirror_mode": {
    "name": "ipython",
    "version": 3
   },
   "file_extension": ".py",
   "mimetype": "text/x-python",
   "name": "python",
   "nbconvert_exporter": "python",
   "pygments_lexer": "ipython3",
   "version": "3.5.6"
  }
 },
 "nbformat": 4,
 "nbformat_minor": 2
}
